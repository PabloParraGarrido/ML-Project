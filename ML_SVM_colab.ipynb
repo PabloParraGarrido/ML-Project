{
  "cells": [
    {
      "cell_type": "code",
      "execution_count": 2,
      "metadata": {
        "id": "nFfjKJxjZPkY"
      },
      "outputs": [],
      "source": [
        "# Install dependencies\n",
        "# DON'T RUN\n",
        "# !pip install -q numerapi pandas pyarrow matplotlib lightgbm scikit-learn cloudpickle scipy==1.10.1\n",
        "\n",
        "# Inline plots\n",
        "%matplotlib inline"
      ]
    },
    {
      "cell_type": "code",
      "execution_count": 3,
      "metadata": {
        "id": "tCqFGCeUlCxu"
      },
      "outputs": [],
      "source": [
        "import numpy as np\n",
        "import matplotlib.pyplot as plt\n",
        "from sklearn.model_selection import train_test_split"
      ]
    },
    {
      "cell_type": "code",
      "execution_count": 4,
      "metadata": {
        "id": "Q-oYFHsEZJBF"
      },
      "outputs": [
        {
          "name": "stderr",
          "output_type": "stream",
          "text": [
            "/Users/ismadelic/opt/anaconda3/lib/python3.9/site-packages/pandas/core/computation/expressions.py:21: UserWarning: Pandas requires version '2.8.4' or newer of 'numexpr' (version '2.8.3' currently installed).\n",
            "  from pandas.core.computation.check import NUMEXPR_INSTALLED\n",
            "/Users/ismadelic/opt/anaconda3/lib/python3.9/site-packages/pandas/core/arrays/masked.py:60: UserWarning: Pandas requires version '1.3.6' or newer of 'bottleneck' (version '1.3.5' currently installed).\n",
            "  from pandas.core import (\n"
          ]
        }
      ],
      "source": [
        "from numerapi import NumerAPI\n",
        "napi = NumerAPI()\n",
        "\n",
        "import pandas as pd\n",
        "\n",
        "# list the datasets and available versions\n",
        "all_datasets = napi.list_datasets()\n",
        "dataset_versions = list(set(d.split('/')[0] for d in all_datasets))\n",
        "\n",
        "# Set data version to one of the latest datasets\n",
        "DATA_VERSION = \"v4.3\""
      ]
    },
    {
      "cell_type": "code",
      "execution_count": 5,
      "metadata": {
        "id": "r8Ex5zu9ZlwT"
      },
      "outputs": [],
      "source": [
        "import json\n",
        "\n",
        "# # download the feature metadata file\n",
        "# napi.download_dataset(f\"{DATA_VERSION}/features.json\"); # ONLY RUN ONCE!\n",
        "\n",
        "# read the metadata and display\n",
        "feature_metadata = json.load(open(f\"{DATA_VERSION}/features.json\"))\n",
        "feature_sets = feature_metadata[\"feature_sets\"]\n",
        "\n",
        "small_feature_set = feature_sets[\"small\"]\n",
        "medium_feature_set = feature_sets[\"medium\"]\n",
        "\n",
        "# # Download the training data - this will take a few minutes\n",
        "# napi.download_dataset(f\"{DATA_VERSION}/train_int8.parquet\"); # ONLY RUN ONCE!\n",
        "\n",
        "# Load only the \"small\" and \"medium\" feature set to\n",
        "# Use the \"all\" feature set to use all features\n",
        "small_data = pd.read_parquet(\n",
        "    f\"{DATA_VERSION}/train_int8.parquet\",\n",
        "    columns=[\"era\", \"target\"] + small_feature_set\n",
        ")\n",
        "medium_data = pd.read_parquet(\n",
        "    f\"{DATA_VERSION}/train_int8.parquet\",\n",
        "    columns=[\"era\", \"target\"] + medium_feature_set\n",
        ")\n",
        "\n",
        "# Downsample to every 4th era to reduce memory usage and speedup model training (suggested for Colab free tier)\n",
        "# Comment out the line below to use all the data\n",
        "small_data = small_data[small_data[\"era\"].isin(small_data[\"era\"].unique()[::4])]\n",
        "medium_data = medium_data[medium_data[\"era\"].isin(medium_data[\"era\"].unique()[::4])]\n"
      ]
    },
    {
      "cell_type": "code",
      "execution_count": 6,
      "metadata": {
        "id": "NPj3IlNPZrNR"
      },
      "outputs": [],
      "source": [
        "small_X_train = small_data[small_feature_set]\n",
        "small_y_train = small_data[\"target\"]\n",
        "medium_X_train = medium_data[medium_feature_set]\n",
        "medium_y_train = medium_data[\"target\"]"
      ]
    },
    {
      "cell_type": "code",
      "execution_count": 7,
      "metadata": {
        "colab": {
          "base_uri": "https://localhost:8080/"
        },
        "id": "whE7NCVjBF1V",
        "outputId": "bc4b29d4-9704-4a8a-e20a-7737a8949fd5"
      },
      "outputs": [
        {
          "data": {
            "text/plain": [
              "feature_enzymatic_poorest_advocaat             -0.011773\n",
              "feature_unswaddled_inenarrable_goody           -0.011449\n",
              "feature_wetter_unbaffled_loma                  -0.007477\n",
              "feature_floatiest_quintuplicate_carpentering   -0.007150\n",
              "feature_unbarking_apolitical_hibernian         -0.007114\n",
              "                                                  ...   \n",
              "feature_hunchbacked_unturning_meditation        0.010299\n",
              "feature_denuded_typed_wattmeter                 0.010343\n",
              "feature_pruinose_raploch_roubaix                0.010585\n",
              "feature_leaky_overloaded_rhodium                0.011407\n",
              "feature_simpatico_cadential_pup                 0.012055\n",
              "Length: 705, dtype: float64"
            ]
          },
          "execution_count": 7,
          "metadata": {},
          "output_type": "execute_result"
        }
      ],
      "source": [
        "# find correlation between features and outcome\n",
        "corr = medium_X_train.corrwith(medium_y_train)\n",
        "corr.sort_values()"
      ]
    },
    {
      "cell_type": "code",
      "execution_count": 8,
      "metadata": {
        "colab": {
          "base_uri": "https://localhost:8080/"
        },
        "id": "OlGCsC53InGN",
        "outputId": "7495a105-81a0-444d-fd9e-3ff6c69b096a"
      },
      "outputs": [
        {
          "data": {
            "text/plain": [
              "feature_simpatico_cadential_pup         0.012055\n",
              "feature_enzymatic_poorest_advocaat      0.011773\n",
              "feature_unswaddled_inenarrable_goody    0.011449\n",
              "feature_leaky_overloaded_rhodium        0.011407\n",
              "feature_pruinose_raploch_roubaix        0.010585\n",
              "dtype: float64"
            ]
          },
          "execution_count": 8,
          "metadata": {},
          "output_type": "execute_result"
        }
      ],
      "source": [
        "# Find the most correlated features\n",
        "corr_sorted = abs(corr).sort_values(ascending=False).head()\n",
        "corr_sorted"
      ]
    },
    {
      "cell_type": "code",
      "execution_count": 9,
      "metadata": {
        "id": "Zvu3f8O3K-4a"
      },
      "outputs": [],
      "source": [
        "# # get 100 most correlated features\n",
        "# medium100_feature_set = corr.columns # can't get it to work\n",
        "# medium100_X_train = medium_X_train[medium100_feature_set]"
      ]
    },
    {
      "cell_type": "code",
      "execution_count": 10,
      "metadata": {
        "id": "u4c-eSBVJX5Z"
      },
      "outputs": [],
      "source": [
        "small_y_train = pd.Categorical(small_y_train).codes\n",
        "medium_y_train = pd.Categorical(medium_y_train).codes"
      ]
    },
    {
      "cell_type": "code",
      "execution_count": 11,
      "metadata": {
        "id": "ZLpvanDmm72G"
      },
      "outputs": [],
      "source": [
        "# feature_set_sizes = {'small': [small_X_train,small_y_train], 'medium': [medium_X_train,medium_y_train], 'medium100': [medium100_X_train,medium_y_train]}\n",
        "feature_set_sizes = {'small': [small_X_train,small_y_train], 'medium': [medium_X_train,medium_y_train]}\n",
        "kernels = ['linear', 'poly', 'rbf']\n",
        "lambds = [1.0, 0.1, 0.01, 0.001, 0.0001]\n",
        "models = {}\n",
        "train_predictions = {}\n",
        "train_scores = {}"
      ]
    },
    {
      "cell_type": "code",
      "execution_count": 12,
      "metadata": {
        "id": "XrTP2VlQBkQ2"
      },
      "outputs": [],
      "source": [
        "from sklearn.svm import SVC # \"Support vector classifier\""
      ]
    },
    {
      "cell_type": "code",
      "execution_count": 13,
      "metadata": {
        "colab": {
          "base_uri": "https://localhost:8080/"
        },
        "id": "Yszlz7jSmFgk",
        "outputId": "3dab6d6d-98ce-421f-bba8-a610a1df421f"
      },
      "outputs": [
        {
          "name": "stdout",
          "output_type": "stream",
          "text": [
            "training model: small linear 1.0\n",
            "training model: small linear 0.1\n",
            "training model: small linear 0.01\n",
            "training model: small linear 0.001\n",
            "training model: small linear 0.0001\n",
            "training model: small poly 1.0\n",
            "training model: small poly 0.1\n",
            "training model: small poly 0.01\n",
            "training model: small poly 0.001\n",
            "training model: small poly 0.0001\n",
            "training model: small rbf 1.0\n",
            "training model: small rbf 0.1\n",
            "training model: small rbf 0.01\n",
            "training model: small rbf 0.001\n",
            "training model: small rbf 0.0001\n",
            "training model: medium linear 1.0\n",
            "training model: medium linear 0.1\n",
            "training model: medium linear 0.01\n",
            "training model: medium linear 0.001\n",
            "training model: medium linear 0.0001\n",
            "training model: medium poly 1.0\n",
            "training model: medium poly 0.1\n",
            "training model: medium poly 0.01\n",
            "training model: medium poly 0.001\n",
            "training model: medium poly 0.0001\n",
            "training model: medium rbf 1.0\n",
            "training model: medium rbf 0.1\n",
            "training model: medium rbf 0.01\n",
            "training model: medium rbf 0.001\n",
            "training model: medium rbf 0.0001\n"
          ]
        }
      ],
      "source": [
        "for size, (X_train, y_train) in feature_set_sizes.items():\n",
        "  for kernel in kernels:\n",
        "    for lambd in lambds:\n",
        "      m_name = size+' '+kernel+' '+str(lambd)\n",
        "      model = SVC(kernel=kernel, C=lambd)\n",
        "      print(\"training model: \"+m_name)\n",
        "\n",
        "      model.fit(X_train[:1000], y_train[:1000])\n",
        "      models[m_name] = model\n",
        "\n",
        "      prediction = model.predict(X_train[:1000])\n",
        "      train_predictions[m_name] = prediction\n",
        "\n",
        "      score = model.score(X_train[:1000], y_train[:1000])\n",
        "      train_scores[m_name] = score"
      ]
    },
    {
      "cell_type": "code",
      "execution_count": 14,
      "metadata": {
        "colab": {
          "base_uri": "https://localhost:8080/"
        },
        "id": "wEEtkMm4Bmu_",
        "outputId": "b49780b5-06bb-4c82-9de8-e1f09c392f67"
      },
      "outputs": [
        {
          "name": "stdout",
          "output_type": "stream",
          "text": [
            "medium linear 1.0: 1.0\n",
            "medium linear 0.1: 0.943\n",
            "medium linear 0.01: 0.799\n",
            "medium poly 1.0: 1.0\n",
            "medium poly 0.1: 0.859\n"
          ]
        }
      ],
      "source": [
        "best_small_models = ['small poly 1.0']\n",
        "best_medium_models = []\n",
        "for name,score in train_scores.items():\n",
        "  if score>0.7 and name.split(' ')[0] =='medium':\n",
        "    best_medium_models.append(name)\n",
        "    print(name+':', score)"
      ]
    },
    {
      "cell_type": "markdown",
      "metadata": {
        "id": "9GNA_G4bZ4Gj"
      },
      "source": [
        "small poly 1.0: 0.838\\\n",
        "medium linear 1.0: 1.0\\\n",
        "medium linear 0.1: 0.943\\\n",
        "medium linear 0.01: 0.799\\\n",
        "medium poly 1.0: 1.0\\\n",
        "medium poly 0.1: 0.859\n"
      ]
    },
    {
      "cell_type": "code",
      "execution_count": null,
      "metadata": {
        "id": "lzDlOEt__--1"
      },
      "outputs": [],
      "source": []
    },
    {
      "cell_type": "code",
      "execution_count": 15,
      "metadata": {
        "id": "gyX5Hczr9Rvj"
      },
      "outputs": [],
      "source": [
        "# Download validation data - this will take a few minutes\n",
        "# napi.download_dataset(f\"{DATA_VERSION}/validation_int8.parquet\"); # ONLY RUN ONCE!\n",
        "\n",
        "# Load the validation data and filter for data_type == \"validation\"\n",
        "small_validation = pd.read_parquet(\n",
        "    f\"{DATA_VERSION}/validation_int8.parquet\",\n",
        "    columns=[\"era\", \"data_type\", \"target\"] + small_feature_set\n",
        ")\n",
        "medium_validation = pd.read_parquet(\n",
        "    f\"{DATA_VERSION}/validation_int8.parquet\",\n",
        "    columns=[\"era\", \"data_type\", \"target\"] + medium_feature_set\n",
        ")\n",
        "\n",
        "# Downsample to every 4th era to reduce memory usage and speedup evaluation (suggested for Colab free tier)\n",
        "# Comment out the line below to use all the data (slower and higher memory usage, but more accurate evaluation)\n",
        "small_validation = small_validation[small_validation[\"era\"].isin(small_validation[\"era\"].unique()[::4])]\n",
        "medium_validation = medium_validation[medium_validation[\"era\"].isin(medium_validation[\"era\"].unique()[::4])]\n",
        "\n",
        "# Eras are 1 week apart, but targets look 20 days (o 4 weeks/eras) into the future,\n",
        "# so we need to \"embargo\" the first 4 eras following our last train era to avoid \"data leakage\"\n",
        "last_train_era = int(small_data[\"era\"].unique()[-1])\n",
        "eras_to_embargo = [str(era).zfill(4) for era in [last_train_era + i for i in range(4)]]\n",
        "small_validation = small_validation[~small_validation[\"era\"].isin(eras_to_embargo)]\n",
        "medium_validation = medium_validation[~medium_validation[\"era\"].isin(eras_to_embargo)]\n",
        "\n",
        "# # Generate predictions against the out-of-sample validation features\n",
        "# # This will take a few minutes 🍵\n",
        "# small_validation[\"prediction\"] = model.predict(small_validation[small_feature_set])\n",
        "# medium_validation[\"prediction\"] = model.predict(medium_validation[medium_feature_set])\n",
        "# small_validation[[\"era\", \"prediction\", \"target\"]]\n",
        "# medium_validation[[\"era\", \"prediction\", \"target\"]]"
      ]
    },
    {
      "cell_type": "code",
      "execution_count": 16,
      "metadata": {
        "id": "QVOcsB-h-qEC"
      },
      "outputs": [],
      "source": [
        "# For splitting val into test and val sets, may be unnecessary\n",
        "# small_X_val, small_X_test, small_y_val, small_y_test = train_test_split(\n",
        "#     small_validation[small_feature_set], small_validation[\"target\"],\n",
        "#     test_size = 0.1, random_state=10, shuffle=True\n",
        "# )\n",
        "# medium_X_val, medium_X_test, medium_y_val, medium_y_test = train_test_split(\n",
        "#     medium_validation[medium_feature_set], medium_validation[\"target\"],\n",
        "#     test_size = 0.1, random_state=10, shuffle=True\n",
        "# )\n",
        "\n",
        "small_X_val = small_validation[small_feature_set]\n",
        "small_y_val = small_validation['target']\n",
        "medium_X_val = medium_validation[medium_feature_set]\n",
        "medium_y_val = medium_validation['target']\n",
        "\n",
        "small_y_val = pd.Categorical(small_y_val).codes\n",
        "medium_y_val = pd.Categorical(medium_y_val).codes"
      ]
    },
    {
      "cell_type": "code",
      "execution_count": 17,
      "metadata": {
        "id": "p7-aBr7nnxrN"
      },
      "outputs": [],
      "source": [
        "val_predictions = {}\n",
        "val_scores = {}\n",
        "\n",
        "# predict for best small models\n",
        "for m_name in best_small_models:\n",
        "  model = models[m_name]\n",
        "  prediction = model.predict(small_X_val[:1000])\n",
        "  val_predictions[m_name] = prediction\n",
        "\n",
        "  score = model.score(small_X_val[:1000], small_y_val[:1000])\n",
        "  val_scores[m_name] = score"
      ]
    },
    {
      "cell_type": "code",
      "execution_count": 18,
      "metadata": {
        "id": "6QIJl91WZwhp"
      },
      "outputs": [],
      "source": [
        "# predict for best medium models\n",
        "for m_name in best_medium_models:\n",
        "    model = models[m_name]\n",
        "    prediction = model.predict(medium_X_val[:1000])\n",
        "    val_predictions[m_name] = prediction\n",
        "\n",
        "    score = model.score(medium_X_val[:1000], medium_y_val[:1000])\n",
        "    val_scores[m_name] = score\n"
      ]
    },
    {
      "cell_type": "code",
      "execution_count": 19,
      "metadata": {
        "colab": {
          "base_uri": "https://localhost:8080/"
        },
        "id": "UHOS3QrkdfLu",
        "outputId": "1e7745ee-3b72-4d25-83d2-d71c250fda27"
      },
      "outputs": [
        {
          "name": "stdout",
          "output_type": "stream",
          "text": [
            "small poly 1.0: 0.355\n",
            "medium linear 1.0: 0.311\n",
            "medium linear 0.1: 0.336\n",
            "medium linear 0.01: 0.402\n",
            "medium poly 1.0: 0.416\n",
            "medium poly 0.1: 0.49\n"
          ]
        }
      ],
      "source": [
        "for name,score in val_scores.items():\n",
        "  print(name+':', score)"
      ]
    },
    {
      "cell_type": "code",
      "execution_count": 20,
      "metadata": {
        "id": "2TDvw2HVqfTj"
      },
      "outputs": [],
      "source": [
        "best_m_name = 'medium poly 0.1'"
      ]
    },
    {
      "cell_type": "code",
      "execution_count": 22,
      "metadata": {
        "colab": {
          "base_uri": "https://localhost:8080/",
          "height": 350
        },
        "id": "VsUkQ6_eqfH3",
        "outputId": "70526298-dc13-45d6-89c6-7c162fb84a30"
      },
      "outputs": [],
      "source": [
        "# Retrain the best chosen model using entire data, this might take a while\n",
        "best_model = SVC(kernel='poly', C=0.1)\n",
        "\n",
        "best_model.fit(medium_X_train[:10000], medium_y_train[:10000])"
      ]
    },
    {
      "cell_type": "code",
      "execution_count": 23,
      "metadata": {},
      "outputs": [],
      "source": [
        "val_prediction = best_model.predict(medium_X_val[:10000])\n",
        "val_score = best_model.score(medium_X_val[:10000], medium_y_val[:10000])"
      ]
    },
    {
      "cell_type": "code",
      "execution_count": 25,
      "metadata": {
        "colab": {
          "base_uri": "https://localhost:8080/",
          "height": 139
        },
        "id": "gDK_psvPwYVf",
        "outputId": "aae4c26b-c554-4af7-acd1-67f73115b9b5"
      },
      "outputs": [
        {
          "name": "stdout",
          "output_type": "stream",
          "text": [
            "validation score: 0.4837\n"
          ]
        }
      ],
      "source": [
        "print(\"validation score: \" + str(val_score))"
      ]
    },
    {
      "cell_type": "markdown",
      "metadata": {
        "id": "-AbP21CEZK2S"
      },
      "source": [
        "Below are some helpful visualizations"
      ]
    },
    {
      "cell_type": "code",
      "execution_count": null,
      "metadata": {
        "id": "B-F0mwviy8ZQ"
      },
      "outputs": [],
      "source": [
        "# Plot accuracy for each model on the training and validation set (X-axis: model, y-axis: accuracy score)"
      ]
    },
    {
      "cell_type": "code",
      "execution_count": 29,
      "metadata": {
        "colab": {
          "base_uri": "https://localhost:8080/",
          "height": 466
        },
        "id": "z59-7rOnaxDq",
        "outputId": "6ddf4a7a-0f6a-427f-85cb-cd45e227eadc"
      },
      "outputs": [
        {
          "data": {
            "text/plain": [
              "Text(0, 0.5, 'Training Accuracy')"
            ]
          },
          "execution_count": 29,
          "metadata": {},
          "output_type": "execute_result"
        },
        {
          "data": {
            "image/png": "[encoded data removed]",
            "text/plain": [
              "<Figure size 640x480 with 1 Axes>"
            ]
          },
          "metadata": {},
          "output_type": "display_data"
        }
      ],
      "source": [
        "# training error\n",
        "plt.plot(range(len(train_scores.keys())),train_scores.values(),marker='.')\n",
        "plt.plot(range(len(train_scores.keys())), np.repeat(0.7, len(train_scores.keys())), color='r')\n",
        "plt.title('Grid Search')\n",
        "plt.xlabel('Model')\n",
        "plt.ylabel('Training Accuracy')"
      ]
    },
    {
      "cell_type": "code",
      "execution_count": 28,
      "metadata": {
        "colab": {
          "base_uri": "https://localhost:8080/",
          "height": 466
        },
        "id": "pxaS6tLybRMx",
        "outputId": "0d1756eb-2cdf-4b3e-8fcd-d3597ab90fdd"
      },
      "outputs": [
        {
          "data": {
            "text/plain": [
              "<matplotlib.legend.Legend at 0x7f9dfb57b100>"
            ]
          },
          "execution_count": 28,
          "metadata": {},
          "output_type": "execute_result"
        },
        {
          "data": {
            "image/png": "[encoded data removed]",
            "text/plain": [
              "<Figure size 640x480 with 1 Axes>"
            ]
          },
          "metadata": {},
          "output_type": "display_data"
        }
      ],
      "source": [
        "# val error\n",
        "best_train_scores = [0.838, 1.0,0.943,0.799,1.0,0.859]\n",
        "plt.plot(range(len(best_train_scores)),best_train_scores,marker='.', label='training')\n",
        "plt.plot(range(len(val_scores.keys())),val_scores.values(),marker='.', label='validation')\n",
        "plt.title('Cross Validation')\n",
        "plt.xlabel('Model')\n",
        "plt.ylabel('Validation Accuracy')\n",
        "plt.legend()"
      ]
    },
    {
      "cell_type": "code",
      "execution_count": null,
      "metadata": {
        "id": "gAKlNpVDcPED"
      },
      "outputs": [],
      "source": []
    }
  ],
  "metadata": {
    "colab": {
      "provenance": []
    },
    "kernelspec": {
      "display_name": "base",
      "language": "python",
      "name": "python3"
    },
    "language_info": {
      "codemirror_mode": {
        "name": "ipython",
        "version": 3
      },
      "file_extension": ".py",
      "mimetype": "text/x-python",
      "name": "python",
      "nbconvert_exporter": "python",
      "pygments_lexer": "ipython3",
      "version": "3.9.13"
    },
    "vscode": {
      "interpreter": {
        "hash": "28db8345e30a34ab49d36421477d659f63c7ac05bb83410490a792cab9cefc1a"
      }
    }
  },
  "nbformat": 4,
  "nbformat_minor": 0
}
